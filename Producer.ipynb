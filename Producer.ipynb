{
 "cells": [
  {
   "cell_type": "code",
   "execution_count": 1,
   "metadata": {},
   "outputs": [
    {
     "name": "stdout",
     "output_type": "stream",
     "text": [
      "Requirement already up-to-date: avro-python3 in /opt/conda/lib/python3.7/site-packages (1.9.2.1)\n"
     ]
    }
   ],
   "source": [
    "!pip install -U avro-python3"
   ]
  },
  {
   "cell_type": "code",
   "execution_count": null,
   "metadata": {},
   "outputs": [],
   "source": [
    "import requests\n",
    "from confluent_kafka import Producer\n",
    "import time\n",
    "\n",
    "def delivery_report(err, msg):\n",
    "    \"\"\" Called once for each message produced to indicate delivery result.\n",
    "        Triggered by poll() or flush(). \"\"\"\n",
    "    if err is not None:\n",
    "        print('Message delivery failed: {}'.format(err))\n",
    "    else:\n",
    "        print('Message delivered to {} [{}]'.format(msg.topic(), msg.partition()))\n",
    "\n",
    "\n",
    "        \n",
    "api_url = \"https://api.opensensemap.org/boxes/5d15717b30bde6001ad10ef5\"\n",
    "producer = Producer({\n",
    "    'bootstrap.servers': 'kafka-1:19092,kafka-2:19093',\n",
    "    })\n",
    "\n",
    "while True:\n",
    "    data = requests.get(api_url).text\n",
    "    producer.produce('sensor_raw', data, callback=delivery_report)\n",
    "    producer.flush()\n",
    "    time.sleep(5)"
   ]
  },
  {
   "cell_type": "code",
   "execution_count": null,
   "metadata": {},
   "outputs": [],
   "source": []
  }
 ],
 "metadata": {
  "kernelspec": {
   "display_name": "Python 3",
   "language": "python",
   "name": "python3"
  },
  "language_info": {
   "codemirror_mode": {
    "name": "ipython",
    "version": 3
   },
   "file_extension": ".py",
   "mimetype": "text/x-python",
   "name": "python",
   "nbconvert_exporter": "python",
   "pygments_lexer": "ipython3",
   "version": "3.7.3"
  }
 },
 "nbformat": 4,
 "nbformat_minor": 4
}
