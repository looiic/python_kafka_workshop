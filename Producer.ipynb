import requests
import json
from confluent_kafka import Producer
from confluent_kafka import avro
from confluent_kafka.avro import AvroProducer

def delivery_report(err, msg):
    """ Called once for each message produced to indicate delivery result.
        Triggered by poll() or flush(). """
    if err is not None:
        print('Message delivery failed: {}'.format(err))
    else:
        print('Message delivered to {} [{}]'.format(msg.topic(), msg.partition()))


schema_url = "http://schema-registry-1:8081/subjects/sensor-raw-value/versions/1"
try:
    schema_json =  json.loads(requests.get(schema_url).text)
    schema = schema_json["schema"]
    print(schema)
    value_schema = avro.loads(schema) # Erzeugt bei mir ein Error
except requests.exceptions.ConnectionError:
    print("Error while fetching Avro Scheme from Registry")


        
api_url = "https://api.opensensemap.org/boxes/5d15717b30bde6001ad10ef5?format=json"

data = requests.get(api_url).text


avroProducer = AvroProducer({
    'bootstrap.servers': 'kafka-1:19092,kafka-2:19093',
    'schema.registry.url': 'http://schema-registry-1:8081'
    }, default_value_schema=value_schema)

avroProducer.produce(topic='sensor-raw', value=data)
