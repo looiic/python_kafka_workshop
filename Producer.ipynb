{
 "cells": [
  {
   "cell_type": "code",
   "execution_count": 10,
   "metadata": {},
   "outputs": [
    {
     "name": "stdout",
     "output_type": "stream",
     "text": [
      "[{\"value\":\"2.75\",\"location\":[151.043,-33.884051],\"createdAt\":\"2020-05-19T15:11:13.868Z\"},{\"value\":\"2.00\",\"location\":[151.043,-33.884051],\"createdAt\":\"2020-05-19T15:10:15.419Z\"},{\"value\":\"3.25\",\"location\":[151.043,-33.884051],\"createdAt\":\"2020-05-19T15:09:06.280Z\"},{\"value\":\"2.50\",\"location\":[151.043,-33.884051],\"createdAt\":\"2020-05-19T15:08:03.083Z\"},{\"value\":\"2.50\",\"location\":[151.043,-33.884051],\"createdAt\":\"2020-05-19T15:06:56.966Z\"},{\"value\":\"2.25\",\"location\":[151.043,-33.884051],\"createdAt\":\"2020-05-19T15:05:53.837Z\"},{\"value\":\"1.50\",\"location\":[151.043,-33.884051],\"createdAt\":\"2020-05-19T15:04:50.524Z\"},{\"value\":\"1.00\",\"location\":[151.043,-33.884051],\"createdAt\":\"2020-05-19T15:03:47.396Z\"},{\"value\":\"0.50\",\"location\":[151.043,-33.884051],\"createdAt\":\"2020-05-19T15:02:44.450Z\"},{\"value\":\"0.00\",\"location\":[151.043,-33.884051],\"createdAt\":\"2020-05-19T15:01:39.187Z\"},{\"value\":\"0.25\",\"location\":[151.043,-33.884051],\"createdAt\":\"2020-05-19T15:00:35.297Z\"},{\"value\":\"0.25\",\"location\":[151.043,-33.884051],\"createdAt\":\"2020-05-19T14:59:31.397Z\"},{\"value\":\"0.75\",\"location\":[151.043,-33.884051],\"createdAt\":\"2020-05-19T14:58:28.061Z\"},{\"value\":\"1.00\",\"location\":[151.043,-33.884051],\"createdAt\":\"2020-05-19T14:57:24.421Z\"}]\n"
     ]
    }
   ],
   "source": [
    "from datetime import datetime, timedelta\n",
    "import requests\n",
    "\n",
    "api_url = \"https://api.opensensemap.org/boxes/5d15717b30bde6001ad10ef5/data/5d15717b30bde6001ad10ef9\"\n",
    "vor15minuten = datetime.now() - timedelta(minutes=15)\n",
    "data = requests.get(api_url + '?from-date=' + vor15minuten.isoformat()+'Z').text\n",
    "print(data)"
   ]
  },
  {
   "cell_type": "code",
   "execution_count": 11,
   "metadata": {},
   "outputs": [
    {
     "ename": "ModuleNotFoundError",
     "evalue": "No module named 'confluent_kafka'",
     "output_type": "error",
     "traceback": [
      "\u001b[0;31m---------------------------------------------------------------------------\u001b[0m",
      "\u001b[0;31mModuleNotFoundError\u001b[0m                       Traceback (most recent call last)",
      "\u001b[0;32m<ipython-input-11-12f55f81d2cd>\u001b[0m in \u001b[0;36m<module>\u001b[0;34m\u001b[0m\n\u001b[1;32m      1\u001b[0m \u001b[0;32mimport\u001b[0m \u001b[0mrequests\u001b[0m\u001b[0;34m\u001b[0m\u001b[0;34m\u001b[0m\u001b[0m\n\u001b[0;32m----> 2\u001b[0;31m \u001b[0;32mfrom\u001b[0m \u001b[0mconfluent_kafka\u001b[0m \u001b[0;32mimport\u001b[0m \u001b[0mProducer\u001b[0m\u001b[0;34m\u001b[0m\u001b[0;34m\u001b[0m\u001b[0m\n\u001b[0m\u001b[1;32m      3\u001b[0m \u001b[0;32mimport\u001b[0m \u001b[0mtime\u001b[0m\u001b[0;34m\u001b[0m\u001b[0;34m\u001b[0m\u001b[0m\n\u001b[1;32m      4\u001b[0m \u001b[0;32mfrom\u001b[0m \u001b[0mdatetime\u001b[0m \u001b[0;32mimport\u001b[0m \u001b[0mdatetime\u001b[0m\u001b[0;34m,\u001b[0m \u001b[0mtimedelta\u001b[0m\u001b[0;34m\u001b[0m\u001b[0;34m\u001b[0m\u001b[0m\n\u001b[1;32m      5\u001b[0m \u001b[0;32mimport\u001b[0m \u001b[0mjson\u001b[0m\u001b[0;34m\u001b[0m\u001b[0;34m\u001b[0m\u001b[0m\n",
      "\u001b[0;31mModuleNotFoundError\u001b[0m: No module named 'confluent_kafka'"
     ]
    }
   ],
   "source": [
    "import requests\n",
    "from confluent_kafka import Producer\n",
    "import time\n",
    "from datetime import datetime, timedelta\n",
    "import json\n",
    "\n",
    "def delivery_report(err, msg):\n",
    "    \"\"\" Called once for each message produced to indicate delivery result.\n",
    "        Triggered by poll() or flush(). \"\"\"\n",
    "    if err is not None:\n",
    "        print('Message delivery failed: {}'.format(err))\n",
    "    else:\n",
    "        print('Message delivered to {} [{}]'.format(msg.topic(), msg.partition()))\n",
    "\n",
    "\n",
    "        \n",
    "api_url = \"https://api.opensensemap.org/boxes/5d15717b30bde6001ad10ef5/data/5d15717b30bde6001ad10ef9\"\n",
    "producer = Producer({\n",
    "    'bootstrap.servers': 'kafka-1:19092,kafka-2:19093',\n",
    "    })\n",
    "\n",
    "datetime.now\n",
    "\n",
    "while True:\n",
    "    vor15minuten = datetime.now() - timedelta(minutes=15)\n",
    "    data = requests.get(api_url + '?from-date=' + vor15minuten.isoformat()+'Z').text\n",
    "    recordsJson = json.loads(data)\n",
    "    for record in recordsJson:  \n",
    "        producer.produce('pm10_raw', json.dumps(record), callback=delivery_report)\n",
    "        producer.flush()\n",
    "        \n",
    "    time.sleep(5*60)"
   ]
  },
  {
   "cell_type": "code",
   "execution_count": null,
   "metadata": {},
   "outputs": [],
   "source": [
    "!pip install confluent-kafka"
   ]
  }
 ],
 "metadata": {
  "kernelspec": {
   "display_name": "Python 3",
   "language": "python",
   "name": "python3"
  },
  "language_info": {
   "codemirror_mode": {
    "name": "ipython",
    "version": 3
   },
   "file_extension": ".py",
   "mimetype": "text/x-python",
   "name": "python",
   "nbconvert_exporter": "python",
   "pygments_lexer": "ipython3",
   "version": "3.7.3"
  }
 },
 "nbformat": 4,
 "nbformat_minor": 4
}
