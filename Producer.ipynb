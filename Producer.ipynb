import requests
import json
from confluent_kafka import Producer


p = Producer({'bootstrap.servers': 'localhost:19092,localhost:19093'})

def delivery_report(err, msg):
    """ Called once for each message produced to indicate delivery result.
        Triggered by poll() or flush(). """
    if err is not None:
        print('Message delivery failed: {}'.format(err))
    else:
        print('Message delivered to {} [{}]'.format(msg.topic(), msg.partition()))
        
api_url = "https://api.opensensemap.org/boxes/5d15717b30bde6001ad10ef5?format=json"

data = json.loads(requests.get(api_url).text)

p = Producer({'bootstrap.servers': 'kafka-1:19092,kafka-2:19093'})
p.poll(0)
p.produce('sensor-raw', json.dumps(data), callback=delivery_report)       
p.flush()