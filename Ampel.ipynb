{
 "cells": [
  {
   "cell_type": "code",
   "execution_count": null,
   "metadata": {},
   "outputs": [
    {
     "data": {
      "application/vnd.jupyter.widget-view+json": {
       "model_id": "49bd7529ae804253b8a5fc6f878da605",
       "version_major": 2,
       "version_minor": 0
      },
      "text/plain": [
       "Image(value=b'\\x89PNG\\r\\n\\x1a\\n\\x00\\x00\\x00\\rIHDR\\x00\\x00\\x01h\\x00\\x00\\x02\\xd0\\x08\\x06\\x00\\x00\\x00\\xbd\\x94\\xea…"
      ]
     },
     "metadata": {},
     "output_type": "display_data"
    },
    {
     "name": "stdout",
     "output_type": "stream",
     "text": [
      "{'value': '5.00', 'createdAt': '2020-05-18T08:58:29.515Z'}\n",
      "5.0\n",
      "{'value': '6.50', 'createdAt': '2020-05-18T09:07:59.729Z'}\n",
      "6.5\n",
      "{'value': '8.50', 'createdAt': '2020-05-18T09:09:04.485Z'}\n",
      "8.5\n",
      "{'value': '9.50', 'createdAt': '2020-05-18T09:10:07.512Z'}\n",
      "9.5\n",
      "{'value': '11.50', 'createdAt': '2020-05-18T09:52:53.380Z'}\n",
      "11.5\n",
      "{'value': '13.50', 'createdAt': '2020-05-18T09:53:56.987Z'}\n",
      "13.5\n",
      "{'value': '9.25', 'createdAt': '2020-05-18T09:55:00.467Z'}\n",
      "9.25\n",
      "{'value': '9.00', 'createdAt': '2020-05-18T09:56:03.890Z'}\n",
      "9.0\n",
      "{'value': '11.50', 'createdAt': '2020-05-18T09:57:08.463Z'}\n",
      "11.5\n",
      "{'value': '9.50', 'createdAt': '2020-05-18T09:58:11.696Z'}\n",
      "9.5\n",
      "{'value': '19.25', 'createdAt': '2020-05-18T13:32:18.841Z'}\n",
      "19.25\n",
      "{'value': '20.75', 'createdAt': '2020-05-18T13:33:22.033Z'}\n",
      "20.75\n",
      "{'value': '19.00', 'createdAt': '2020-05-18T13:34:29.434Z'}\n",
      "19.0\n",
      "{'value': '18.75', 'createdAt': '2020-05-18T13:35:32.639Z'}\n",
      "18.75\n",
      "{'value': '18.00', 'createdAt': '2020-05-18T13:36:35.803Z'}\n",
      "18.0\n",
      "{'value': '18.50', 'createdAt': '2020-05-18T13:37:38.883Z'}\n",
      "18.5\n",
      "{'value': '18.50', 'createdAt': '2020-05-18T13:38:41.898Z'}\n",
      "18.5\n",
      "{'value': '18.00', 'createdAt': '2020-05-18T13:39:46.294Z'}\n",
      "18.0\n"
     ]
    }
   ],
   "source": [
    "from confluent_kafka import Consumer, KafkaError\n",
    "import json\n",
    "import ipywidgets as widgets\n",
    "\n",
    "\n",
    "file = open(\"ampel.png\", \"rb\")\n",
    "ampel = file.read()\n",
    "file = open(\"ampel_gruen.png\", \"rb\")\n",
    "ampel_gruen = file.read()\n",
    "file = open(\"ampel_orange.png\", \"rb\")\n",
    "ampel_orange = file.read()\n",
    "file = open(\"ampel_rot.png\", \"rb\")\n",
    "ampel_rot = file.read()\n",
    "\n",
    "image = widgets.Image(\n",
    "    value=ampel,\n",
    "    format='png'\n",
    ")\n",
    "\n",
    "display(image)\n",
    "\n",
    "settings = {\n",
    "    'bootstrap.servers': 'kafka-1:19092, kafka-2:19093, kafka-3:19094',\n",
    "    'group.id': 'sensorGroup-5',\n",
    "    'client.id': 'client-5',\n",
    "    'auto.offset.reset':'earliest',\n",
    "    'enable.auto.commit': False,\n",
    "    'session.timeout.ms': 6000\n",
    "}\n",
    "\n",
    "c = Consumer(settings)\n",
    "\n",
    "c.subscribe(['sensor'])\n",
    "\n",
    "try:\n",
    "    while True:\n",
    "        msg = c.poll(1.0)\n",
    "        if msg is None:\n",
    "            continue\n",
    "        elif not msg.error():\n",
    "            # print('Received message: {0}'.format(msg.value()))\n",
    "            sensorData = json.loads(msg.value())\n",
    "            for sensor in sensorData['sensors']:\n",
    "                if sensor['title'] == 'PM10':\n",
    "                    print(sensor['lastMeasurement'])\n",
    "                    lastMeasurement = float(sensor['lastMeasurement']['value'])\n",
    "                    print(lastMeasurement)\n",
    "                    if lastMeasurement > 10.0:\n",
    "                        image.value = ampel_rot\n",
    "                    elif lastMeasurement < 9.0:\n",
    "                        image.value = ampel_gruen\n",
    "                    else:\n",
    "                        image.value = ampel_orange\n",
    "            \n",
    "        elif msg.error().code() == KafkaError._PARTITION_EOF:\n",
    "            print('End of partition reached {0}/{1}'\n",
    "                  .format(msg.topic(), msg.partition()))\n",
    "        else:\n",
    "            print('Error occured: {0}'.format(msg.error().str()))\n",
    "\n",
    "except KeyboardInterrupt:\n",
    "    pass\n",
    "\n",
    "finally:\n",
    "    c.close()"
   ]
  },
  {
   "cell_type": "code",
   "execution_count": 7,
   "metadata": {},
   "outputs": [
    {
     "data": {
      "text/plain": [
       "True"
      ]
     },
     "execution_count": 7,
     "metadata": {},
     "output_type": "execute_result"
    }
   ],
   "source": [
    "19.0 > 10.0"
   ]
  }
 ],
 "metadata": {
  "kernelspec": {
   "display_name": "Python 3",
   "language": "python",
   "name": "python3"
  },
  "language_info": {
   "codemirror_mode": {
    "name": "ipython",
    "version": 3
   },
   "file_extension": ".py",
   "mimetype": "text/x-python",
   "name": "python",
   "nbconvert_exporter": "python",
   "pygments_lexer": "ipython3",
   "version": "3.7.3"
  }
 },
 "nbformat": 4,
 "nbformat_minor": 4
}
