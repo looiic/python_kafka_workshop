{
 "cells": [
  {
   "cell_type": "code",
   "execution_count": 21,
   "metadata": {},
   "outputs": [
    {
     "ename": "KeyError",
     "evalue": "'unit'",
     "output_type": "error",
     "traceback": [
      "\u001b[0;31m---------------------------------------------------------------------------\u001b[0m",
      "\u001b[0;31mKeyError\u001b[0m                                  Traceback (most recent call last)",
      "\u001b[0;32m<ipython-input-21-b25d08d583b8>\u001b[0m in \u001b[0;36m<module>\u001b[0;34m\u001b[0m\n\u001b[1;32m     25\u001b[0m             \u001b[0;32mfor\u001b[0m \u001b[0msensor\u001b[0m \u001b[0;32min\u001b[0m \u001b[0msensorData\u001b[0m\u001b[0;34m[\u001b[0m\u001b[0;34m'sensors'\u001b[0m\u001b[0;34m]\u001b[0m\u001b[0;34m:\u001b[0m\u001b[0;34m\u001b[0m\u001b[0;34m\u001b[0m\u001b[0m\n\u001b[1;32m     26\u001b[0m                 \u001b[0;32mif\u001b[0m \u001b[0msensor\u001b[0m\u001b[0;34m[\u001b[0m\u001b[0;34m'title'\u001b[0m\u001b[0;34m]\u001b[0m \u001b[0;34m==\u001b[0m \u001b[0;34m'PM10'\u001b[0m\u001b[0;34m:\u001b[0m\u001b[0;34m\u001b[0m\u001b[0;34m\u001b[0m\u001b[0m\n\u001b[0;32m---> 27\u001b[0;31m                     \u001b[0mprint\u001b[0m\u001b[0;34m(\u001b[0m\u001b[0msensor\u001b[0m\u001b[0;34m[\u001b[0m\u001b[0;34m'lastMeasurement'\u001b[0m\u001b[0;34m]\u001b[0m\u001b[0;34m[\u001b[0m\u001b[0;34m'value'\u001b[0m\u001b[0;34m]\u001b[0m\u001b[0;34m,\u001b[0m \u001b[0msensor\u001b[0m\u001b[0;34m[\u001b[0m\u001b[0;34m'lastMeasurement'\u001b[0m\u001b[0;34m]\u001b[0m\u001b[0;34m[\u001b[0m\u001b[0;34m'unit'\u001b[0m\u001b[0;34m]\u001b[0m\u001b[0;34m)\u001b[0m\u001b[0;34m\u001b[0m\u001b[0;34m\u001b[0m\u001b[0m\n\u001b[0m\u001b[1;32m     28\u001b[0m \u001b[0;34m\u001b[0m\u001b[0m\n\u001b[1;32m     29\u001b[0m         \u001b[0;32melif\u001b[0m \u001b[0mmsg\u001b[0m\u001b[0;34m.\u001b[0m\u001b[0merror\u001b[0m\u001b[0;34m(\u001b[0m\u001b[0;34m)\u001b[0m\u001b[0;34m.\u001b[0m\u001b[0mcode\u001b[0m\u001b[0;34m(\u001b[0m\u001b[0;34m)\u001b[0m \u001b[0;34m==\u001b[0m \u001b[0mKafkaError\u001b[0m\u001b[0;34m.\u001b[0m\u001b[0m_PARTITION_EOF\u001b[0m\u001b[0;34m:\u001b[0m\u001b[0;34m\u001b[0m\u001b[0;34m\u001b[0m\u001b[0m\n",
      "\u001b[0;31mKeyError\u001b[0m: 'unit'"
     ]
    }
   ],
   "source": [
    "from confluent_kafka import Consumer, KafkaError\n",
    "import json\n",
    "\n",
    "settings = {\n",
    "    'bootstrap.servers': 'kafka-1:19092, kafka-2:19093, kafka-3:19094',\n",
    "    'group.id': 'sensorGroup-1',\n",
    "    'client.id': 'client-1',\n",
    "    'enable.auto.commit': True,\n",
    "    'session.timeout.ms': 6000,\n",
    "    'default.topic.config': {'auto.offset.reset': 'smallest'}\n",
    "}\n",
    "\n",
    "c = Consumer(settings)\n",
    "\n",
    "c.subscribe(['sensor'])\n",
    "\n",
    "try:\n",
    "    while True:\n",
    "        msg = c.poll(0.1)\n",
    "        if msg is None:\n",
    "            continue\n",
    "        elif not msg.error():\n",
    "            # print('Received message: {0}'.format(msg.value()))\n",
    "            sensorData = json.loads(msg.value())\n",
    "            for sensor in sensorData['sensors']:\n",
    "                if sensor['title'] == 'PM10':\n",
    "                    print(sensor['lastMeasurement']['value'], sensor['lastMeasurement']['unit'])\n",
    "            \n",
    "        elif msg.error().code() == KafkaError._PARTITION_EOF:\n",
    "            print('End of partition reached {0}/{1}'\n",
    "                  .format(msg.topic(), msg.partition()))\n",
    "        else:\n",
    "            print('Error occured: {0}'.format(msg.error().str()))\n",
    "\n",
    "except KeyboardInterrupt:\n",
    "    pass\n",
    "\n",
    "finally:\n",
    "    c.close()"
   ]
  },
  {
   "cell_type": "code",
   "execution_count": null,
   "metadata": {},
   "outputs": [],
   "source": []
  }
 ],
 "metadata": {
  "kernelspec": {
   "display_name": "Python 3",
   "language": "python",
   "name": "python3"
  },
  "language_info": {
   "codemirror_mode": {
    "name": "ipython",
    "version": 3
   },
   "file_extension": ".py",
   "mimetype": "text/x-python",
   "name": "python",
   "nbconvert_exporter": "python",
   "pygments_lexer": "ipython3",
   "version": "3.7.3"
  }
 },
 "nbformat": 4,
 "nbformat_minor": 4
}
