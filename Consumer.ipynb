{
 "cells": [
  {
   "cell_type": "code",
   "execution_count": null,
   "metadata": {},
   "outputs": [],
   "source": [
    "from confluent_kafka import Consumer, KafkaError\n",
    "import json\n",
    "\n",
    "settings = {\n",
    "    'bootstrap.servers': 'kafka-1:19092, kafka-2:19093, kafka-3:19094',\n",
    "    'group.id': 'sensorGroup-1',\n",
    "    'client.id': 'client-1',\n",
    "    'enable.auto.commit': True,\n",
    "    'session.timeout.ms': 6000,\n",
    "    'default.topic.config': {'auto.offset.reset': 'smallest'}\n",
    "}\n",
    "\n",
    "c = Consumer(settings)\n",
    "\n",
    "c.subscribe(['pm10'])\n",
    "\n",
    "try:\n",
    "    while True:\n",
    "        msg = c.poll(0.1)\n",
    "        if msg is None:\n",
    "            continue\n",
    "        elif not msg.error():\n",
    "            sensorData = json.loads(msg.value())\n",
    "            print(sensorData['createdAt'] + ':', sensorData['value'])\n",
    "        elif msg.error().code() == KafkaError._PARTITION_EOF:\n",
    "            print('End of partition reached {0}/{1}'\n",
    "                  .format(msg.topic(), msg.partition()))\n",
    "        else:\n",
    "            print('Error occured: {0}'.format(msg.error().str()))\n",
    "\n",
    "except KeyboardInterrupt:\n",
    "    pass\n",
    "\n",
    "finally:\n",
    "    c.close()"
   ]
  },
  {
   "cell_type": "code",
   "execution_count": null,
   "metadata": {},
   "outputs": [],
   "source": []
  }
 ],
 "metadata": {
  "kernelspec": {
   "display_name": "Python 3",
   "language": "python",
   "name": "python3"
  },
  "language_info": {
   "codemirror_mode": {
    "name": "ipython",
    "version": 3
   },
   "file_extension": ".py",
   "mimetype": "text/x-python",
   "name": "python",
   "nbconvert_exporter": "python",
   "pygments_lexer": "ipython3",
   "version": "3.7.3"
  }
 },
 "nbformat": 4,
 "nbformat_minor": 4
}
